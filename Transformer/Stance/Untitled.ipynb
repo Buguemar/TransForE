{
 "cells": [
  {
   "cell_type": "code",
   "execution_count": 1,
   "metadata": {},
   "outputs": [],
   "source": [
    "import numpy as np\n",
    "import matplotlib.pyplot as plt\n",
    "import seaborn as sns"
   ]
  },
  {
   "cell_type": "code",
   "execution_count": 2,
   "metadata": {},
   "outputs": [],
   "source": [
    "a=[0.3196,\n",
    "  0.3807,\n",
    "  0.4018,\n",
    "  0.3523,\n",
    "  0.3896,\n",
    "  0.3674,\n",
    "  0.3619,\n",
    "  0.3917,\n",
    "  0.3811,\n",
    "  0.3738,\n",
    "  0.4388,\n",
    "  0.4167,\n",
    "  0.3896,\n",
    "  0.3857,\n",
    "  0.4079,\n",
    "  0.3525,\n",
    "   0.3727,\n",
    "   0.4092,\n",
    "   0.4240,\n",
    "   0.4041\n",
    "  ]"
   ]
  },
  {
   "cell_type": "code",
   "execution_count": 3,
   "metadata": {},
   "outputs": [
    {
     "data": {
      "text/plain": [
       "{'whiskers': [<matplotlib.lines.Line2D at 0x7f3d4a8bbac8>,\n",
       "  <matplotlib.lines.Line2D at 0x7f3d4a8bbe10>],\n",
       " 'caps': [<matplotlib.lines.Line2D at 0x7f3d4a8d5198>,\n",
       "  <matplotlib.lines.Line2D at 0x7f3d4a8d54e0>],\n",
       " 'boxes': [<matplotlib.lines.Line2D at 0x7f3d4a8bb6d8>],\n",
       " 'medians': [<matplotlib.lines.Line2D at 0x7f3d4a8d5828>],\n",
       " 'fliers': [<matplotlib.lines.Line2D at 0x7f3d4a8d5b70>],\n",
       " 'means': []}"
      ]
     },
     "execution_count": 3,
     "metadata": {},
     "output_type": "execute_result"
    },
    {
     "data": {
      "image/png": "[encoded data removed]",
      "text/plain": [
       "<Figure size 432x288 with 1 Axes>"
      ]
     },
     "metadata": {
      "needs_background": "light"
     },
     "output_type": "display_data"
    }
   ],
   "source": [
    "plt.boxplot(a)"
   ]
  },
  {
   "cell_type": "code",
   "execution_count": 5,
   "metadata": {},
   "outputs": [
    {
     "data": {
      "text/plain": [
       "0.3895526315789474"
      ]
     },
     "execution_count": 5,
     "metadata": {},
     "output_type": "execute_result"
    }
   ],
   "source": [
    "(np.sum(a) - 0.3196)/19"
   ]
  },
  {
   "cell_type": "code",
   "execution_count": 24,
   "metadata": {},
   "outputs": [
    {
     "name": "stdout",
     "output_type": "stream",
     "text": [
      "mean 0.3895526315789474 -- std 0.023113754584003207\n"
     ]
    }
   ],
   "source": [
    "a_n=[0.3807,\n",
    "  0.4018,\n",
    "  0.3523,\n",
    "  0.3896,\n",
    "  0.3674,\n",
    "  0.3619,\n",
    "  0.3917,\n",
    "  0.3811,\n",
    "  0.3738,\n",
    "  0.4388,\n",
    "  0.4167,\n",
    "  0.3896,\n",
    "  0.3857,\n",
    "  0.4079,\n",
    "  0.3525,\n",
    "   0.3727,\n",
    "   0.4092,\n",
    "   0.4240,\n",
    "   0.4041\n",
    "  ]\n",
    "print (\"mean\", np.mean(a_n), \"-- std\", np.std(a_n) )"
   ]
  },
  {
   "cell_type": "code",
   "execution_count": 25,
   "metadata": {},
   "outputs": [
    {
     "data": {
      "text/plain": [
       "0.7670105263157895"
      ]
     },
     "execution_count": 25,
     "metadata": {},
     "output_type": "execute_result"
    }
   ],
   "source": [
    "(0.767*20 - 0.7668 )/19"
   ]
  },
  {
   "cell_type": "code",
   "execution_count": 30,
   "metadata": {},
   "outputs": [
    {
     "data": {
      "text/plain": [
       "0.38975000000000004"
      ]
     },
     "execution_count": 30,
     "metadata": {},
     "output_type": "execute_result"
    }
   ],
   "source": [
    "(0.054 + 0.101 + 0.542 + 0.862)/4\n"
   ]
  },
  {
   "cell_type": "code",
   "execution_count": 6,
   "metadata": {},
   "outputs": [],
   "source": [
    "b=[0.4608,\n",
    "  0.4235,\n",
    "  0.4274,\n",
    "  0.3628,\n",
    "  0.3998,\n",
    "  0.3879,\n",
    "  0.3742,\n",
    "  0.2946,\n",
    "  0.4178,\n",
    "  0.3877,\n",
    "  0.3295,\n",
    "  0.4117,\n",
    "  0.4001,\n",
    "  0.4319,\n",
    "  0.2962,\n",
    "  0.4424,\n",
    "   0.3680,\n",
    "   0.3837,\n",
    "   0.4101,\n",
    "   0.3806\n",
    "  ]"
   ]
  },
  {
   "cell_type": "code",
   "execution_count": 8,
   "metadata": {},
   "outputs": [
    {
     "data": {
      "text/plain": [
       "{'whiskers': [<matplotlib.lines.Line2D at 0x7f3d4954f5f8>,\n",
       "  <matplotlib.lines.Line2D at 0x7f3d4954f940>],\n",
       " 'caps': [<matplotlib.lines.Line2D at 0x7f3d4954fc88>,\n",
       "  <matplotlib.lines.Line2D at 0x7f3d4954ffd0>],\n",
       " 'boxes': [<matplotlib.lines.Line2D at 0x7f3d4954f2e8>],\n",
       " 'medians': [<matplotlib.lines.Line2D at 0x7f3d494e8358>],\n",
       " 'fliers': [<matplotlib.lines.Line2D at 0x7f3d494e86a0>],\n",
       " 'means': []}"
      ]
     },
     "execution_count": 8,
     "metadata": {},
     "output_type": "execute_result"
    },
    {
     "data": {
      "image/png": "[encoded data removed]",
      "text/plain": [
       "<Figure size 432x288 with 1 Axes>"
      ]
     },
     "metadata": {
      "needs_background": "light"
     },
     "output_type": "display_data"
    }
   ],
   "source": [
    "plt.boxplot(b)"
   ]
  },
  {
   "cell_type": "code",
   "execution_count": 9,
   "metadata": {},
   "outputs": [
    {
     "data": {
      "text/plain": [
       "0.39999444444444454"
      ]
     },
     "execution_count": 9,
     "metadata": {},
     "output_type": "execute_result"
    }
   ],
   "source": [
    "(np.sum(b) - 0.2962 - 0.2946)/18"
   ]
  },
  {
   "cell_type": "code",
   "execution_count": 11,
   "metadata": {},
   "outputs": [
    {
     "name": "stdout",
     "output_type": "stream",
     "text": [
      "mean 0.3999944444444445 -- std 0.031050397603863703\n"
     ]
    }
   ],
   "source": [
    "b_n=[0.4608,\n",
    "  0.4235,\n",
    "  0.4274,\n",
    "  0.3628,\n",
    "  0.3998,\n",
    "  0.3879,\n",
    "  0.3742,\n",
    "  0.4178,\n",
    "  0.3877,\n",
    "  0.3295,\n",
    "  0.4117,\n",
    "  0.4001,\n",
    "  0.4319,\n",
    "  0.4424,\n",
    "   0.3680,\n",
    "   0.3837,\n",
    "   0.4101,\n",
    "   0.3806\n",
    "  ]\n",
    "print (\"mean\", np.mean(b_n), \"-- std\", np.std(b_n) )"
   ]
  },
  {
   "cell_type": "code",
   "execution_count": 13,
   "metadata": {},
   "outputs": [
    {
     "data": {
      "text/plain": [
       "0.49335555555555544"
      ]
     },
     "execution_count": 13,
     "metadata": {},
     "output_type": "execute_result"
    }
   ],
   "source": [
    "(0.473*20 - 0.2850 - 0.2946)/18"
   ]
  },
  {
   "cell_type": "code",
   "execution_count": 23,
   "metadata": {},
   "outputs": [
    {
     "data": {
      "text/plain": [
       "0.39975"
      ]
     },
     "execution_count": 23,
     "metadata": {},
     "output_type": "execute_result"
    }
   ],
   "source": [
    "(0.196 + 0.229 + 0.579 + 0.595)/4"
   ]
  },
  {
   "cell_type": "code",
   "execution_count": 32,
   "metadata": {},
   "outputs": [
    {
     "data": {
      "text/plain": [
       "{'whiskers': [<matplotlib.lines.Line2D at 0x7f3d49bb0b00>,\n",
       "  <matplotlib.lines.Line2D at 0x7f3d49bb08d0>],\n",
       " 'caps': [<matplotlib.lines.Line2D at 0x7f3d4a8a44e0>,\n",
       "  <matplotlib.lines.Line2D at 0x7f3d497fbe80>],\n",
       " 'boxes': [<matplotlib.lines.Line2D at 0x7f3d49c314a8>],\n",
       " 'medians': [<matplotlib.lines.Line2D at 0x7f3d4980eb38>],\n",
       " 'fliers': [<matplotlib.lines.Line2D at 0x7f3d4980ecf8>],\n",
       " 'means': []}"
      ]
     },
     "execution_count": 32,
     "metadata": {},
     "output_type": "execute_result"
    },
    {
     "data": {
      "image/png": "[encoded data removed]",
      "text/plain": [
       "<Figure size 432x288 with 1 Axes>"
      ]
     },
     "metadata": {
      "needs_background": "light"
     },
     "output_type": "display_data"
    }
   ],
   "source": [
    "c=[0.8530381535562883, 0.8643429109750354, 0.8601036269430051, 0.8582195007065473, 0.8601036269430051, 0.8624587847385775, 0.8563353744700894, 0.8709373528026377, 0.8629298162976919, 0.8676401318888366, 0.867169100329722, 0.8615167216203485, 0.855864342910975, 0.8652849740932642, 0.8634008478568064, 0.8638718794159209, 0.8676401318888366, 0.8601036269430051, 0.8582195007065473, 0.8685821950070655]\n",
    "plt.boxplot(c)"
   ]
  },
  {
   "cell_type": "code",
   "execution_count": 37,
   "metadata": {},
   "outputs": [
    {
     "data": {
      "text/plain": [
       "0.42900000000000005"
      ]
     },
     "execution_count": 37,
     "metadata": {},
     "output_type": "execute_result"
    }
   ],
   "source": [
    "(0.924 + 0.000 + 0.002 + 0.790)/4"
   ]
  },
  {
   "cell_type": "code",
   "execution_count": 42,
   "metadata": {},
   "outputs": [
    {
     "data": {
      "text/plain": [
       "{'whiskers': [<matplotlib.lines.Line2D at 0x7f3d49750518>,\n",
       "  <matplotlib.lines.Line2D at 0x7f3d49750860>],\n",
       " 'caps': [<matplotlib.lines.Line2D at 0x7f3d49750ba8>,\n",
       "  <matplotlib.lines.Line2D at 0x7f3d49750ef0>],\n",
       " 'boxes': [<matplotlib.lines.Line2D at 0x7f3d49750208>],\n",
       " 'medians': [<matplotlib.lines.Line2D at 0x7f3d495a7278>],\n",
       " 'fliers': [<matplotlib.lines.Line2D at 0x7f3d495a75c0>],\n",
       " 'means': []}"
      ]
     },
     "execution_count": 42,
     "metadata": {},
     "output_type": "execute_result"
    },
    {
     "data": {
      "image/png": "[encoded data removed]",
      "text/plain": [
       "<Figure size 432x288 with 1 Axes>"
      ]
     },
     "metadata": {
      "needs_background": "light"
     },
     "output_type": "display_data"
    }
   ],
   "source": [
    "plt.boxplot([0.45784564959635243, 0.5063298433224754, 0.5106175761080838, 0.47579736167297065, 0.45600420959520094, 0.49602666444390964, 0.48689018833729186, 0.48737598175999175, 0.4675118252576322, 0.5474666220247847, 0.4889070469031468, 0.46586188064817713, 0.4754825034559107, 0.47644838269382916, 0.4863045827074604, 0.4712204518654808, 0.48566083513772207, 0.48475722425273304, 0.5098803456133717, 0.4664238339872877])"
   ]
  },
  {
   "cell_type": "code",
   "execution_count": null,
   "metadata": {},
   "outputs": [],
   "source": []
  }
 ],
 "metadata": {
  "kernelspec": {
   "display_name": "Python 3",
   "language": "python",
   "name": "python3"
  },
  "language_info": {
   "codemirror_mode": {
    "name": "ipython",
    "version": 3
   },
   "file_extension": ".py",
   "mimetype": "text/x-python",
   "name": "python",
   "nbconvert_exporter": "python",
   "pygments_lexer": "ipython3",
   "version": "3.6.10"
  }
 },
 "nbformat": 4,
 "nbformat_minor": 4
}
